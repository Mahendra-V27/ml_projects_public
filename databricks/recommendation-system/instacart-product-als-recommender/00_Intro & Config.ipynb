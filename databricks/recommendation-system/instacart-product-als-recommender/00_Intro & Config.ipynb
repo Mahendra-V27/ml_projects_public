{
 "cells": [
  {
   "cell_type": "markdown",
   "metadata": {
    "application/vnd.databricks.v1+cell": {
     "cellMetadata": {},
     "inputWidgets": {},
     "nuid": "c51d6169-0a55-4e83-973f-319d4825aea9",
     "showTitle": false,
     "title": ""
    }
   },
   "source": [
    "You may find this series of notebooks at https://github.com/databricks-industry-solutions/als-recommender. For more information about this solution accelerator, visit https://www.databricks.com/solutions/accelerators/recommendation-engines"
   ]
  },
  {
   "cell_type": "markdown",
   "metadata": {
    "application/vnd.databricks.v1+cell": {
     "cellMetadata": {},
     "inputWidgets": {},
     "nuid": "d762f7d6-a575-4d38-a9b3-df1c06e8fa98",
     "showTitle": false,
     "title": ""
    }
   },
   "source": [
    "The purpose of this notebook is to introduce the ALS recommender solution accelerator and to provide access to configuration information for the notebooks supporting it."
   ]
  },
  {
   "cell_type": "markdown",
   "metadata": {
    "application/vnd.databricks.v1+cell": {
     "cellMetadata": {},
     "inputWidgets": {},
     "nuid": "47fecb03-4ba6-401c-9d97-73ac4debfeb8",
     "showTitle": false,
     "title": ""
    }
   },
   "source": [
    "## Introduction\n",
    "\n",
    "Recommender systems are becoming increasing important as companies seek better ways to select products to present to end users. In this solution accelerator, we will explore a form of collaborative filter referred to as a matrix factorization.  \n",
    "\n",
    "Matrix factorization works by assembling a set of ratings for various products made by a set of users.  The large user x products matrix is decomposed into smaller user and product submatrices associated with some developer-specified number of latent factors.  In many ways, a matrix factorization is a dimension reduction technique but one where missing values in the original matrix are allowed.\n",
    "\n",
    "When examining ratings for a large number of user and product combinations, most users will engage with a very smaller percentage of products.  This causes us to have a user x products matrix that is highly sparse. When we decompose this matrix into the submatrices, the two can be combined to *recreate* the original matrix in a manner that provides ratings estimates for all products, including those a user has not yet engaged.  This ability to fill-in the missing ratings forms the basis for recommending new products to a user.\n",
    "\n",
    "Matrix factorization recommenders are frequently used in scenarios where we wish to suggest new and repeat purchase items to a user.  *People like you also bought ...*, *Products we think you'll like ...*, and *Based on your purchase history ...* styled recommendations are frequently delivered through this type of recommender.\n",
    "\n",
    "The challenge in developing a matrix factorization recommender is the large amount of computational horsepower required to calculate the submatrices.  Alternating Least Squares (ALS) is one approach that decomposes the process into a series of incremental steps that can be implemented in a distributed manner. In this solution accelerator, we will train and deploy an ALS-based matrix factorization recommender using the ALS capabilities in Apache Spark to demonstrate how this is done."
   ]
  },
  {
   "cell_type": "markdown",
   "metadata": {
    "application/vnd.databricks.v1+cell": {
     "cellMetadata": {},
     "inputWidgets": {},
     "nuid": "a63e80e1-8854-4c9f-90ed-9e6c2c0f0974",
     "showTitle": false,
     "title": ""
    }
   },
   "source": [
    "## Configuration Settings"
   ]
  },
  {
   "cell_type": "code",
   "execution_count": 0,
   "metadata": {
    "application/vnd.databricks.v1+cell": {
     "cellMetadata": {
      "byteLimit": 2048000,
      "rowLimit": 10000
     },
     "inputWidgets": {},
     "nuid": "a0b737f7-7f85-4b60-8414-602193636ece",
     "showTitle": true,
     "title": "Instantiate Config Variable "
    }
   },
   "outputs": [],
   "source": [
    "if 'config' not in locals().keys():\n",
    "  config = {}"
   ]
  },
  {
   "cell_type": "code",
   "execution_count": 0,
   "metadata": {
    "application/vnd.databricks.v1+cell": {
     "cellMetadata": {
      "byteLimit": 2048000,
      "rowLimit": 10000
     },
     "inputWidgets": {},
     "nuid": "40063cf0-cfcb-4187-ab6b-5aa37cfa7956",
     "showTitle": true,
     "title": "Identify Database"
    }
   },
   "outputs": [],
   "source": [
    "config['database'] = 'adv_analytics_poc'"
   ]
  },
  {
   "cell_type": "code",
   "execution_count": 0,
   "metadata": {
    "application/vnd.databricks.v1+cell": {
     "cellMetadata": {
      "byteLimit": 2048000,
      "rowLimit": 10000
     },
     "inputWidgets": {},
     "nuid": "39322cad-16d3-41e6-b3ee-926bcbf81fe0",
     "showTitle": true,
     "title": "Create & Set Current Database"
    }
   },
   "outputs": [],
   "source": [
    "# create database if not exists\n",
    "# _ = spark.sql('create database if not exists {0}'.format(config['database']))\n",
    "\n",
    "# set current database context\n",
    "# _ = spark.catalog.setCurrentDatabase(config['database'])"
   ]
  },
  {
   "cell_type": "markdown",
   "metadata": {
    "application/vnd.databricks.v1+cell": {
     "cellMetadata": {},
     "inputWidgets": {},
     "nuid": "dc8aa29d-2c78-4e3b-91e8-7992a556256c",
     "showTitle": false,
     "title": ""
    }
   },
   "source": [
    "Here we use a temporary path in DBFS for illustration purposes to reduce external dependencies. We recommend that you use a cloud storage path or [mount point](https://docs.databricks.com/dbfs/mounts.html) to save data for production workloads. "
   ]
  },
  {
   "cell_type": "code",
   "execution_count": 0,
   "metadata": {
    "application/vnd.databricks.v1+cell": {
     "cellMetadata": {
      "byteLimit": 2048000,
      "rowLimit": 10000
     },
     "inputWidgets": {},
     "nuid": "5cab30bf-a612-45d6-94b4-3a7c2d25cd87",
     "showTitle": true,
     "title": "Identify Mount Point"
    }
   },
   "outputs": [],
   "source": [
    "config['mount_point'] = '/tmp/instacart_als'"
   ]
  },
  {
   "cell_type": "code",
   "execution_count": 0,
   "metadata": {
    "application/vnd.databricks.v1+cell": {
     "cellMetadata": {
      "byteLimit": 2048000,
      "rowLimit": 10000
     },
     "inputWidgets": {},
     "nuid": "c22fe6b5-8838-4f55-86b4-3cda12b9206e",
     "showTitle": true,
     "title": "Define Paths to Data Files"
    }
   },
   "outputs": [],
   "source": [
    "config['products_path'] = config['mount_point'] + '/bronze/products'\n",
    "config['orders_path'] = config['mount_point'] + '/bronze/orders'\n",
    "config['order_products_path'] = config['mount_point'] + '/bronze/order_products'\n",
    "config['aisles_path'] = config['mount_point'] + '/bronze/aisles'\n",
    "config['departments_path'] = config['mount_point'] + '/bronze/departments'"
   ]
  },
  {
   "cell_type": "code",
   "execution_count": 0,
   "metadata": {
    "application/vnd.databricks.v1+cell": {
     "cellMetadata": {
      "byteLimit": 2048000,
      "rowLimit": 10000
     },
     "inputWidgets": {},
     "nuid": "6c4e2584-31bb-4227-b0dc-927dc33190a1",
     "showTitle": true,
     "title": "Model Info"
    }
   },
   "outputs": [],
   "source": [
    "config['model name'] = 'als'"
   ]
  },
  {
   "cell_type": "code",
   "execution_count": 0,
   "metadata": {
    "application/vnd.databricks.v1+cell": {
     "cellMetadata": {
      "byteLimit": 2048000,
      "rowLimit": 10000
     },
     "inputWidgets": {},
     "nuid": "be22bc02-8013-4ac7-a3d7-4ad3736a781a",
     "showTitle": true,
     "title": "Set mlflow experiment"
    },
    "jupyter": {
     "outputs_hidden": true
    }
   },
   "outputs": [
    {
     "output_type": "stream",
     "name": "stderr",
     "output_type": "stream",
     "text": [
      "2024/04/01 09:50:18 INFO mlflow.tracking.fluent: Experiment with name '/Users/mahendra.v@sapiens.com/als-recommender' does not exist. Creating a new experiment.\n"
     ]
    },
    {
     "output_type": "execute_result",
     "data": {
      "text/plain": [
       "<Experiment: artifact_location='dbfs:/databricks/mlflow-tracking/4413013109107832', creation_time=1711965018511, experiment_id='4413013109107832', last_update_time=1711965018511, lifecycle_stage='active', name='/Users/mahendra.v@sapiens.com/als-recommender', tags={'mlflow.experiment.sourceName': '/Users/mahendra.v@sapiens.com/als-recommender',\n",
       " 'mlflow.experimentType': 'MLFLOW_EXPERIMENT',\n",
       " 'mlflow.ownerEmail': 'mahendra.v@sapiens.com',\n",
       " 'mlflow.ownerId': '6670788333455762'}>"
      ]
     },
     "execution_count": 14,
     "metadata": {},
     "output_type": "execute_result"
    }
   ],
   "source": [
    "import mlflow\n",
    "username = dbutils.notebook.entry_point.getDbutils().notebook().getContext().userName().get()\n",
    "mlflow.set_experiment('/Users/{}/als-recommender'.format(username))"
   ]
  },
  {
   "cell_type": "markdown",
   "metadata": {
    "application/vnd.databricks.v1+cell": {
     "cellMetadata": {},
     "inputWidgets": {},
     "nuid": "e4d82ad2-59c1-4b8a-890d-782d1ea94584",
     "showTitle": false,
     "title": ""
    }
   },
   "source": [
    "© 2022 Databricks, Inc. All rights reserved. The source in this notebook is provided subject to the Databricks License."
   ]
  }
 ],
 "metadata": {
  "application/vnd.databricks.v1+notebook": {
   "dashboards": [],
   "environmentMetadata": null,
   "language": "python",
   "notebookMetadata": {
    "pythonIndentUnit": 4
   },
   "notebookName": "00_Intro & Config",
   "widgets": {}
  }
 },
 "nbformat": 4,
 "nbformat_minor": 0
}
